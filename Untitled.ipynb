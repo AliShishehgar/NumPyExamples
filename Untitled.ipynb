{
 "cells": [
  {
   "cell_type": "code",
   "execution_count": 1,
   "id": "83b9fddf",
   "metadata": {},
   "outputs": [
    {
     "name": "stdout",
     "output_type": "stream",
     "text": [
      "CSV file created with 100 rows at house_prices.csv\n"
     ]
    }
   ],
   "source": [
    "import csv\n",
    "import random\n",
    "\n",
    "def generate_random_data(num_rows):\n",
    "    data = [[\"Price\", \"Size\", \"Bedrooms\", \"Age\"]]\n",
    "    for _ in range(num_rows):\n",
    "        price = random.randint(100000, 1000000)\n",
    "        size = random.randint(500, 5000)\n",
    "        bedrooms = random.randint(1, 6)\n",
    "        age = random.randint(0, 50)\n",
    "        data.append([price, size, bedrooms, age])\n",
    "    return data\n",
    "\n",
    "# Generate 100 rows of data\n",
    "data = generate_random_data(100)\n",
    "\n",
    "# File path to save the CSV file\n",
    "file_path = 'house_prices.csv'\n",
    "\n",
    "# Create the CSV file and write the data\n",
    "with open(file_path, mode='w', newline='') as file:\n",
    "    writer = csv.writer(file)\n",
    "    writer.writerows(data)\n",
    "\n",
    "print(f\"CSV file created with {len(data) - 1} rows at {file_path}\")\n"
   ]
  }
 ],
 "metadata": {
  "kernelspec": {
   "display_name": "Python 3 (ipykernel)",
   "language": "python",
   "name": "python3"
  },
  "language_info": {
   "codemirror_mode": {
    "name": "ipython",
    "version": 3
   },
   "file_extension": ".py",
   "mimetype": "text/x-python",
   "name": "python",
   "nbconvert_exporter": "python",
   "pygments_lexer": "ipython3",
   "version": "3.10.6"
  },
  "toc": {
   "base_numbering": 1,
   "nav_menu": {},
   "number_sections": true,
   "sideBar": true,
   "skip_h1_title": false,
   "title_cell": "Table of Contents",
   "title_sidebar": "Contents",
   "toc_cell": false,
   "toc_position": {},
   "toc_section_display": true,
   "toc_window_display": false
  }
 },
 "nbformat": 4,
 "nbformat_minor": 5
}
